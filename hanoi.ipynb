{
 "cells": [
  {
   "cell_type": "code",
   "execution_count": 11,
   "metadata": {},
   "outputs": [
    {
     "name": "stdout",
     "output_type": "stream",
     "text": [
      "원반 갯수는?3\n",
      "c 기둥엔: [3, 2, 1] \n"
     ]
    }
   ],
   "source": [
    "def hanoi(n, a, b, c):\n",
    "    if n==1 :\n",
    "        c.append(a.pop())\n",
    "        return\n",
    "    \n",
    "    \n",
    "    hanoi(n-1, a, c, b)\n",
    "    c.append(a.pop())\n",
    "    hanoi(n-1, b, a, c)\n",
    "    \n",
    "    \n",
    "n = int(input(\"원반 갯수는?\"))\n",
    "a = [i for i in range(n, 0, -1)]\n",
    "b = []\n",
    "c = []\n",
    "\n",
    "hanoi(n,a,b,c)\n",
    "print(\"c 기둥엔: {} \".format(c))"
   ]
  },
  {
   "cell_type": "code",
   "execution_count": 12,
   "metadata": {
    "collapsed": true
   },
   "outputs": [],
   "source": [
    "# 검색 시, 알고리즘 풀이법\n",
    "\n",
    "def hanoii(n, start=1, end=3):\n",
    "    if n:\n",
    "        hanoii(n-1, start, 6 - start - end)\n",
    "        print(start, \"번 기둥의\", n, \"번 원반을\", end, \"번 기둥으로 옮김\")\n",
    "        hanoii(n-1, 6 - start - end, end)"
   ]
  },
  {
   "cell_type": "code",
   "execution_count": 13,
   "metadata": {},
   "outputs": [
    {
     "name": "stdout",
     "output_type": "stream",
     "text": [
      "1 번 기둥의 1 번 원반을 2 번 기둥으로 옮김\n",
      "1 번 기둥의 2 번 원반을 3 번 기둥으로 옮김\n",
      "2 번 기둥의 1 번 원반을 3 번 기둥으로 옮김\n",
      "1 번 기둥의 3 번 원반을 2 번 기둥으로 옮김\n",
      "3 번 기둥의 1 번 원반을 1 번 기둥으로 옮김\n",
      "3 번 기둥의 2 번 원반을 2 번 기둥으로 옮김\n",
      "1 번 기둥의 1 번 원반을 2 번 기둥으로 옮김\n",
      "1 번 기둥의 4 번 원반을 3 번 기둥으로 옮김\n",
      "2 번 기둥의 1 번 원반을 3 번 기둥으로 옮김\n",
      "2 번 기둥의 2 번 원반을 1 번 기둥으로 옮김\n",
      "3 번 기둥의 1 번 원반을 1 번 기둥으로 옮김\n",
      "2 번 기둥의 3 번 원반을 3 번 기둥으로 옮김\n",
      "1 번 기둥의 1 번 원반을 2 번 기둥으로 옮김\n",
      "1 번 기둥의 2 번 원반을 3 번 기둥으로 옮김\n",
      "2 번 기둥의 1 번 원반을 3 번 기둥으로 옮김\n"
     ]
    }
   ],
   "source": [
    "hanoii(n=4)"
   ]
  },
  {
   "cell_type": "code",
   "execution_count": null,
   "metadata": {
    "collapsed": true
   },
   "outputs": [],
   "source": []
  }
 ],
 "metadata": {
  "kernelspec": {
   "display_name": "Python 3",
   "language": "python",
   "name": "python3"
  }
 },
 "nbformat": 4,
 "nbformat_minor": 2
}
